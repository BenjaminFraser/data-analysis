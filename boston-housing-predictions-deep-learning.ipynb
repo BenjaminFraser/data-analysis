{
 "cells": [
  {
   "cell_type": "markdown",
   "metadata": {},
   "source": [
    "# Boston House Price Predictions\n",
    "\n",
    "Rather than applying traditional machine learning techniques on this dataset, as is the norm, in this notebook we'll look at forming a Deep Neural Network (DNN) for regression. This is normally difficult with such a small dataset and a DNN, since the complexity of this type of model tends to significantly overfit the data at hand.\n",
    "\n",
    "Within this notebook, I'll exemplify some good practices to counteract overfitting during training, with a particular emphasis on DNNs."
   ]
  },
  {
   "cell_type": "markdown",
   "metadata": {},
   "source": [
    "---\n",
    "\n",
    "## 1. Import dependencies and dataset"
   ]
  },
  {
   "cell_type": "code",
   "execution_count": 1,
   "metadata": {
    "_cell_guid": "79c7e3d0-c299-4dcb-8224-4455121ee9b0",
    "_uuid": "d629ff2d2480ee46fbb7e2d37f6b5fab8052498a"
   },
   "outputs": [],
   "source": [
    "import pandas as pd\n",
    "import numpy as np\n",
    "import matplotlib.pyplot as plt\n",
    "\n",
    "from sklearn.ensemble import RandomForestRegressor\n",
    "from sklearn.model_selection import train_test_split\n",
    "from sklearn.metrics import accuracy_score"
   ]
  },
  {
   "cell_type": "code",
   "execution_count": 2,
   "metadata": {},
   "outputs": [],
   "source": [
    "PATH =  \"/kaggle/input/boston-house-prices/\""
   ]
  },
  {
   "cell_type": "code",
   "execution_count": 3,
   "metadata": {},
   "outputs": [
    {
     "name": "stdout",
     "output_type": "stream",
     "text": [
      "Shape of housing dataset: (506, 14)\n"
     ]
    },
    {
     "data": {
      "text/html": [
       "<div>\n",
       "<style scoped>\n",
       "    .dataframe tbody tr th:only-of-type {\n",
       "        vertical-align: middle;\n",
       "    }\n",
       "\n",
       "    .dataframe tbody tr th {\n",
       "        vertical-align: top;\n",
       "    }\n",
       "\n",
       "    .dataframe thead th {\n",
       "        text-align: right;\n",
       "    }\n",
       "</style>\n",
       "<table border=\"1\" class=\"dataframe\">\n",
       "  <thead>\n",
       "    <tr style=\"text-align: right;\">\n",
       "      <th></th>\n",
       "      <th>CRIM</th>\n",
       "      <th>ZN</th>\n",
       "      <th>INDUS</th>\n",
       "      <th>CHAS</th>\n",
       "      <th>NOX</th>\n",
       "      <th>RM</th>\n",
       "      <th>AGE</th>\n",
       "      <th>DIS</th>\n",
       "      <th>RAD</th>\n",
       "      <th>TAX</th>\n",
       "      <th>PTRATIO</th>\n",
       "      <th>B</th>\n",
       "      <th>LSTAT</th>\n",
       "      <th>MEDV</th>\n",
       "    </tr>\n",
       "  </thead>\n",
       "  <tbody>\n",
       "    <tr>\n",
       "      <th>0</th>\n",
       "      <td>0.00632</td>\n",
       "      <td>18.0</td>\n",
       "      <td>2.31</td>\n",
       "      <td>0</td>\n",
       "      <td>0.538</td>\n",
       "      <td>6.575</td>\n",
       "      <td>65.2</td>\n",
       "      <td>4.0900</td>\n",
       "      <td>1</td>\n",
       "      <td>296.0</td>\n",
       "      <td>15.3</td>\n",
       "      <td>396.90</td>\n",
       "      <td>4.98</td>\n",
       "      <td>24.0</td>\n",
       "    </tr>\n",
       "    <tr>\n",
       "      <th>1</th>\n",
       "      <td>0.02731</td>\n",
       "      <td>0.0</td>\n",
       "      <td>7.07</td>\n",
       "      <td>0</td>\n",
       "      <td>0.469</td>\n",
       "      <td>6.421</td>\n",
       "      <td>78.9</td>\n",
       "      <td>4.9671</td>\n",
       "      <td>2</td>\n",
       "      <td>242.0</td>\n",
       "      <td>17.8</td>\n",
       "      <td>396.90</td>\n",
       "      <td>9.14</td>\n",
       "      <td>21.6</td>\n",
       "    </tr>\n",
       "    <tr>\n",
       "      <th>2</th>\n",
       "      <td>0.02729</td>\n",
       "      <td>0.0</td>\n",
       "      <td>7.07</td>\n",
       "      <td>0</td>\n",
       "      <td>0.469</td>\n",
       "      <td>7.185</td>\n",
       "      <td>61.1</td>\n",
       "      <td>4.9671</td>\n",
       "      <td>2</td>\n",
       "      <td>242.0</td>\n",
       "      <td>17.8</td>\n",
       "      <td>392.83</td>\n",
       "      <td>4.03</td>\n",
       "      <td>34.7</td>\n",
       "    </tr>\n",
       "    <tr>\n",
       "      <th>3</th>\n",
       "      <td>0.03237</td>\n",
       "      <td>0.0</td>\n",
       "      <td>2.18</td>\n",
       "      <td>0</td>\n",
       "      <td>0.458</td>\n",
       "      <td>6.998</td>\n",
       "      <td>45.8</td>\n",
       "      <td>6.0622</td>\n",
       "      <td>3</td>\n",
       "      <td>222.0</td>\n",
       "      <td>18.7</td>\n",
       "      <td>394.63</td>\n",
       "      <td>2.94</td>\n",
       "      <td>33.4</td>\n",
       "    </tr>\n",
       "    <tr>\n",
       "      <th>4</th>\n",
       "      <td>0.06905</td>\n",
       "      <td>0.0</td>\n",
       "      <td>2.18</td>\n",
       "      <td>0</td>\n",
       "      <td>0.458</td>\n",
       "      <td>7.147</td>\n",
       "      <td>54.2</td>\n",
       "      <td>6.0622</td>\n",
       "      <td>3</td>\n",
       "      <td>222.0</td>\n",
       "      <td>18.7</td>\n",
       "      <td>396.90</td>\n",
       "      <td>5.33</td>\n",
       "      <td>36.2</td>\n",
       "    </tr>\n",
       "  </tbody>\n",
       "</table>\n",
       "</div>"
      ],
      "text/plain": [
       "      CRIM    ZN  INDUS  CHAS    NOX     RM   AGE     DIS  RAD    TAX  \\\n",
       "0  0.00632  18.0   2.31     0  0.538  6.575  65.2  4.0900    1  296.0   \n",
       "1  0.02731   0.0   7.07     0  0.469  6.421  78.9  4.9671    2  242.0   \n",
       "2  0.02729   0.0   7.07     0  0.469  7.185  61.1  4.9671    2  242.0   \n",
       "3  0.03237   0.0   2.18     0  0.458  6.998  45.8  6.0622    3  222.0   \n",
       "4  0.06905   0.0   2.18     0  0.458  7.147  54.2  6.0622    3  222.0   \n",
       "\n",
       "   PTRATIO       B  LSTAT  MEDV  \n",
       "0     15.3  396.90   4.98  24.0  \n",
       "1     17.8  396.90   9.14  21.6  \n",
       "2     17.8  392.83   4.03  34.7  \n",
       "3     18.7  394.63   2.94  33.4  \n",
       "4     18.7  396.90   5.33  36.2  "
      ]
     },
     "execution_count": 3,
     "metadata": {},
     "output_type": "execute_result"
    }
   ],
   "source": [
    "column_names = ['CRIM', 'ZN', 'INDUS', 'CHAS', 'NOX', 'RM', 'AGE', 'DIS', \n",
    "                'RAD', 'TAX', 'PTRATIO', 'B', 'LSTAT', 'MEDV']\n",
    "\n",
    "housing_df = pd.read_csv(PATH + 'housing.csv', header=None, delimiter=r\"\\s+\", names=column_names)\n",
    "\n",
    "print(\"Shape of housing dataset: {0}\".format(housing_df.shape))\n",
    "\n",
    "housing_df.head(5)"
   ]
  },
  {
   "cell_type": "markdown",
   "metadata": {},
   "source": [
    "---\n",
    "## 2. Split our data into training and testing partitions."
   ]
  },
  {
   "cell_type": "code",
   "execution_count": 4,
   "metadata": {},
   "outputs": [],
   "source": [
    "train_data = housing_df.iloc[:404, :].copy()\n",
    "test_data = housing_df.iloc[404:, :].copy()\n",
    "\n",
    "X_train = train_data.iloc[:, :-1].copy()\n",
    "y_train = train_data.iloc[:, -1:].copy()\n",
    "\n",
    "X_test = test_data.iloc[:, :-1].copy()\n",
    "y_test = test_data.iloc[:, -1:].copy()"
   ]
  },
  {
   "cell_type": "code",
   "execution_count": 5,
   "metadata": {},
   "outputs": [
    {
     "data": {
      "text/html": [
       "<div>\n",
       "<style scoped>\n",
       "    .dataframe tbody tr th:only-of-type {\n",
       "        vertical-align: middle;\n",
       "    }\n",
       "\n",
       "    .dataframe tbody tr th {\n",
       "        vertical-align: top;\n",
       "    }\n",
       "\n",
       "    .dataframe thead th {\n",
       "        text-align: right;\n",
       "    }\n",
       "</style>\n",
       "<table border=\"1\" class=\"dataframe\">\n",
       "  <thead>\n",
       "    <tr style=\"text-align: right;\">\n",
       "      <th></th>\n",
       "      <th>CRIM</th>\n",
       "      <th>ZN</th>\n",
       "      <th>INDUS</th>\n",
       "      <th>CHAS</th>\n",
       "      <th>NOX</th>\n",
       "      <th>RM</th>\n",
       "      <th>AGE</th>\n",
       "      <th>DIS</th>\n",
       "      <th>RAD</th>\n",
       "      <th>TAX</th>\n",
       "      <th>PTRATIO</th>\n",
       "      <th>B</th>\n",
       "      <th>LSTAT</th>\n",
       "    </tr>\n",
       "  </thead>\n",
       "  <tbody>\n",
       "    <tr>\n",
       "      <th>count</th>\n",
       "      <td>404.000000</td>\n",
       "      <td>404.000000</td>\n",
       "      <td>404.000000</td>\n",
       "      <td>404.000000</td>\n",
       "      <td>404.000000</td>\n",
       "      <td>404.000000</td>\n",
       "      <td>404.000000</td>\n",
       "      <td>404.000000</td>\n",
       "      <td>404.000000</td>\n",
       "      <td>404.000000</td>\n",
       "      <td>404.000000</td>\n",
       "      <td>404.000000</td>\n",
       "      <td>404.00000</td>\n",
       "    </tr>\n",
       "    <tr>\n",
       "      <th>mean</th>\n",
       "      <td>1.915899</td>\n",
       "      <td>14.232673</td>\n",
       "      <td>9.502327</td>\n",
       "      <td>0.086634</td>\n",
       "      <td>0.531732</td>\n",
       "      <td>6.333109</td>\n",
       "      <td>64.427475</td>\n",
       "      <td>4.174214</td>\n",
       "      <td>6.789604</td>\n",
       "      <td>352.910891</td>\n",
       "      <td>18.026238</td>\n",
       "      <td>379.971757</td>\n",
       "      <td>11.35495</td>\n",
       "    </tr>\n",
       "    <tr>\n",
       "      <th>std</th>\n",
       "      <td>6.218916</td>\n",
       "      <td>25.311515</td>\n",
       "      <td>6.536251</td>\n",
       "      <td>0.281646</td>\n",
       "      <td>0.114497</td>\n",
       "      <td>0.731923</td>\n",
       "      <td>29.053901</td>\n",
       "      <td>2.181423</td>\n",
       "      <td>6.504268</td>\n",
       "      <td>131.554089</td>\n",
       "      <td>2.220211</td>\n",
       "      <td>40.516980</td>\n",
       "      <td>6.82339</td>\n",
       "    </tr>\n",
       "    <tr>\n",
       "      <th>min</th>\n",
       "      <td>0.006320</td>\n",
       "      <td>0.000000</td>\n",
       "      <td>0.460000</td>\n",
       "      <td>0.000000</td>\n",
       "      <td>0.385000</td>\n",
       "      <td>3.561000</td>\n",
       "      <td>2.900000</td>\n",
       "      <td>1.129600</td>\n",
       "      <td>1.000000</td>\n",
       "      <td>187.000000</td>\n",
       "      <td>12.600000</td>\n",
       "      <td>70.800000</td>\n",
       "      <td>1.73000</td>\n",
       "    </tr>\n",
       "    <tr>\n",
       "      <th>25%</th>\n",
       "      <td>0.066358</td>\n",
       "      <td>0.000000</td>\n",
       "      <td>4.330000</td>\n",
       "      <td>0.000000</td>\n",
       "      <td>0.442000</td>\n",
       "      <td>5.890500</td>\n",
       "      <td>38.025000</td>\n",
       "      <td>2.287225</td>\n",
       "      <td>4.000000</td>\n",
       "      <td>276.000000</td>\n",
       "      <td>16.600000</td>\n",
       "      <td>381.187500</td>\n",
       "      <td>6.34250</td>\n",
       "    </tr>\n",
       "    <tr>\n",
       "      <th>50%</th>\n",
       "      <td>0.165995</td>\n",
       "      <td>0.000000</td>\n",
       "      <td>7.225000</td>\n",
       "      <td>0.000000</td>\n",
       "      <td>0.507000</td>\n",
       "      <td>6.227500</td>\n",
       "      <td>69.550000</td>\n",
       "      <td>3.842850</td>\n",
       "      <td>5.000000</td>\n",
       "      <td>307.000000</td>\n",
       "      <td>18.400000</td>\n",
       "      <td>392.580000</td>\n",
       "      <td>9.66000</td>\n",
       "    </tr>\n",
       "    <tr>\n",
       "      <th>75%</th>\n",
       "      <td>0.775792</td>\n",
       "      <td>20.250000</td>\n",
       "      <td>15.040000</td>\n",
       "      <td>0.000000</td>\n",
       "      <td>0.605000</td>\n",
       "      <td>6.679250</td>\n",
       "      <td>92.250000</td>\n",
       "      <td>5.623350</td>\n",
       "      <td>6.000000</td>\n",
       "      <td>403.000000</td>\n",
       "      <td>20.200000</td>\n",
       "      <td>396.900000</td>\n",
       "      <td>14.66250</td>\n",
       "    </tr>\n",
       "    <tr>\n",
       "      <th>max</th>\n",
       "      <td>88.976200</td>\n",
       "      <td>100.000000</td>\n",
       "      <td>25.650000</td>\n",
       "      <td>1.000000</td>\n",
       "      <td>0.871000</td>\n",
       "      <td>8.780000</td>\n",
       "      <td>100.000000</td>\n",
       "      <td>12.126500</td>\n",
       "      <td>24.000000</td>\n",
       "      <td>666.000000</td>\n",
       "      <td>22.000000</td>\n",
       "      <td>396.900000</td>\n",
       "      <td>37.97000</td>\n",
       "    </tr>\n",
       "  </tbody>\n",
       "</table>\n",
       "</div>"
      ],
      "text/plain": [
       "             CRIM          ZN       INDUS        CHAS         NOX          RM  \\\n",
       "count  404.000000  404.000000  404.000000  404.000000  404.000000  404.000000   \n",
       "mean     1.915899   14.232673    9.502327    0.086634    0.531732    6.333109   \n",
       "std      6.218916   25.311515    6.536251    0.281646    0.114497    0.731923   \n",
       "min      0.006320    0.000000    0.460000    0.000000    0.385000    3.561000   \n",
       "25%      0.066358    0.000000    4.330000    0.000000    0.442000    5.890500   \n",
       "50%      0.165995    0.000000    7.225000    0.000000    0.507000    6.227500   \n",
       "75%      0.775792   20.250000   15.040000    0.000000    0.605000    6.679250   \n",
       "max     88.976200  100.000000   25.650000    1.000000    0.871000    8.780000   \n",
       "\n",
       "              AGE         DIS         RAD         TAX     PTRATIO           B  \\\n",
       "count  404.000000  404.000000  404.000000  404.000000  404.000000  404.000000   \n",
       "mean    64.427475    4.174214    6.789604  352.910891   18.026238  379.971757   \n",
       "std     29.053901    2.181423    6.504268  131.554089    2.220211   40.516980   \n",
       "min      2.900000    1.129600    1.000000  187.000000   12.600000   70.800000   \n",
       "25%     38.025000    2.287225    4.000000  276.000000   16.600000  381.187500   \n",
       "50%     69.550000    3.842850    5.000000  307.000000   18.400000  392.580000   \n",
       "75%     92.250000    5.623350    6.000000  403.000000   20.200000  396.900000   \n",
       "max    100.000000   12.126500   24.000000  666.000000   22.000000  396.900000   \n",
       "\n",
       "           LSTAT  \n",
       "count  404.00000  \n",
       "mean    11.35495  \n",
       "std      6.82339  \n",
       "min      1.73000  \n",
       "25%      6.34250  \n",
       "50%      9.66000  \n",
       "75%     14.66250  \n",
       "max     37.97000  "
      ]
     },
     "execution_count": 5,
     "metadata": {},
     "output_type": "execute_result"
    }
   ],
   "source": [
    "X_train.describe()"
   ]
  },
  {
   "cell_type": "markdown",
   "metadata": {},
   "source": [
    "---\n",
    "## 3. Normalization of our features\n",
    "\n",
    "With many features that are heterogeneous, we should definitely consider standardising our data through normalisation. For this we should calculate the mean and standard deviation of the features within the training data, and use this to normalise both the training and test sets.\n",
    "\n",
    "In the following code, we'll normalize our data with zero mean and unit standard deviation. We'll obtain the mean and standard deviation using the training partition, which we will then use to normalize both the training and test splits."
   ]
  },
  {
   "cell_type": "code",
   "execution_count": 6,
   "metadata": {},
   "outputs": [],
   "source": [
    "def feature_normalisation(train_data, test_data):\n",
    "    \"\"\" Normalize our dataframe features with zero mean and unit\n",
    "        standard deviation \"\"\"\n",
    "    \n",
    "    std_data = train_data.copy()\n",
    "    \n",
    "    mean = train_data.mean(axis=0)\n",
    "    std_dev = train_data.std(axis=0)\n",
    "    \n",
    "    # centre data around zero mean and give unit std dev\n",
    "    std_data -= mean\n",
    "    std_data /= std_dev\n",
    "    \n",
    "    # if test data passed to func, convert test data using train mean / std dev\n",
    "    test_data -= mean\n",
    "    test_data /= std_dev\n",
    "        \n",
    "    return std_data, test_data"
   ]
  },
  {
   "cell_type": "code",
   "execution_count": 7,
   "metadata": {},
   "outputs": [],
   "source": [
    "X_train, X_test = feature_normalisation(X_train, X_test)"
   ]
  },
  {
   "cell_type": "markdown",
   "metadata": {},
   "source": [
    "Prior to producing a neural network model and making subsequent predictions on an evaluated model, lets visualise the relative importance of features using an off the shelf random forrest regressor."
   ]
  },
  {
   "cell_type": "code",
   "execution_count": 8,
   "metadata": {},
   "outputs": [
    {
     "data": {
      "text/plain": [
       "RandomForestRegressor(bootstrap=True, ccp_alpha=0.0, criterion='mse',\n",
       "                      max_depth=None, max_features='auto', max_leaf_nodes=None,\n",
       "                      max_samples=None, min_impurity_decrease=0.0,\n",
       "                      min_impurity_split=None, min_samples_leaf=1,\n",
       "                      min_samples_split=2, min_weight_fraction_leaf=0.0,\n",
       "                      n_estimators=100, n_jobs=None, oob_score=False,\n",
       "                      random_state=1, verbose=0, warm_start=False)"
      ]
     },
     "execution_count": 8,
     "metadata": {},
     "output_type": "execute_result"
    }
   ],
   "source": [
    "ranf = RandomForestRegressor(random_state=1)\n",
    "ranf.fit(X_train, y_train.values[:, 0])"
   ]
  },
  {
   "cell_type": "code",
   "execution_count": 9,
   "metadata": {},
   "outputs": [
    {
     "name": "stdout",
     "output_type": "stream",
     "text": [
      "1     RM                        0.60021\n",
      "2     LSTAT                     0.19601\n",
      "3     DIS                       0.07016\n",
      "4     CRIM                      0.05290\n",
      "5     PTRATIO                   0.01781\n",
      "6     TAX                       0.01693\n",
      "7     AGE                       0.01078\n",
      "8     B                         0.01042\n",
      "9     NOX                       0.01042\n",
      "10    INDUS                     0.00762\n",
      "11    RAD                       0.00508\n",
      "12    ZN                        0.00098\n",
      "13    CHAS                      0.00067\n"
     ]
    },
    {
     "data": {
      "image/png": "[encoded data removed]",
      "text/plain": [
       "<Figure size 432x288 with 1 Axes>"
      ]
     },
     "metadata": {
      "needs_background": "light"
     },
     "output_type": "display_data"
    }
   ],
   "source": [
    "columns = list(X_train.columns)\n",
    "\n",
    "importances = ranf.feature_importances_\n",
    "indices = np.argsort(importances)[::-1]\n",
    "cols_ordered = []\n",
    "\n",
    "for feat in range(X_train.shape[1]):\n",
    "    print(\"{0:<5} {1:<25} {2:.5f}\".format(feat + 1, columns[indices[feat]], importances[indices[feat]]))\n",
    "    cols_ordered.append(columns[indices[feat]])\n",
    "    \n",
    "plt.figure(figsize=(6,4))\n",
    "plt.bar(range(X_train.shape[1]), importances[indices], align='center')\n",
    "plt.xticks(range(X_train.shape[1]), cols_ordered, rotation=90)\n",
    "plt.xlim([-1, X_train.shape[1]])\n",
    "plt.tight_layout()\n",
    "plt.title(\"Random Forrest Feature Importances\")\n",
    "plt.show()"
   ]
  },
  {
   "cell_type": "markdown",
   "metadata": {},
   "source": [
    "It's clear that the only two really important features in our dataset appears to be LSTAT and RM. In comparison to these, the others are almost negigible in terms of their correlation to changing the output house price. However, since we are using a neural network in the following lines of code, we will retain all columns and train our model accordingly, regardless of their importance. If we were using more traditional methods, such as random forests, support vector machine or simple linear regression, we would likely benefit from reduction of some of these less important features."
   ]
  },
  {
   "cell_type": "markdown",
   "metadata": {},
   "source": [
    "---\n",
    "## 4. Formation of Deep Neural Network for regression\n",
    "\n",
    "Forming a deep neural network for regression is relatively simple, especially when armed with high-level libraries like Keras or PyTorch. For regression tasks, we simply need to ensure our final output layer has no activation, unlike in classification tasks where we employ sigmoid or softmax output activations."
   ]
  },
  {
   "cell_type": "code",
   "execution_count": 10,
   "metadata": {},
   "outputs": [
    {
     "name": "stderr",
     "output_type": "stream",
     "text": [
      "Using TensorFlow backend.\n"
     ]
    }
   ],
   "source": [
    "from keras import models\n",
    "from keras import layers"
   ]
  },
  {
   "cell_type": "code",
   "execution_count": 11,
   "metadata": {},
   "outputs": [],
   "source": [
    "def nn_model(dropout=False):\n",
    "    \"\"\" Create a basic Deep NN for regression \"\"\"\n",
    "    model = models.Sequential()\n",
    "    model.add(layers.Dense(64, activation='relu', input_shape=(X_train.shape[1],)))\n",
    "    if dropout:\n",
    "        model.add(layers.Dropout(0.5))\n",
    "    model.add(layers.Dense(64, activation='relu'))\n",
    "    if dropout:\n",
    "        model.add(layers.Dropout(0.5))\n",
    "    model.add(layers.Dense(1))\n",
    "    model.compile(optimizer='rmsprop', loss='mse', metrics=['mae'])\n",
    "    return model"
   ]
  },
  {
   "cell_type": "markdown",
   "metadata": {},
   "source": [
    "With such a small dataset, we're best employing K-means cross-validation, which makes more from our data than using just one dedicated partition of samples for the validation set."
   ]
  },
  {
   "cell_type": "code",
   "execution_count": 12,
   "metadata": {},
   "outputs": [
    {
     "name": "stdout",
     "output_type": "stream",
     "text": [
      "Cross-validation fold number 0\n",
      "X Val: (101, 13), y Val: (101, 1)\n",
      "X Train: (303, 13), y Train: (303, 1)\n",
      "Cross-validation fold number 1\n",
      "X Val: (101, 13), y Val: (101, 1)\n",
      "X Train: (303, 13), y Train: (303, 1)\n",
      "Cross-validation fold number 2\n",
      "X Val: (101, 13), y Val: (101, 1)\n",
      "X Train: (303, 13), y Train: (303, 1)\n",
      "Cross-validation fold number 3\n",
      "X Val: (101, 13), y Val: (101, 1)\n",
      "X Train: (303, 13), y Train: (303, 1)\n"
     ]
    }
   ],
   "source": [
    "k = 4\n",
    "\n",
    "num_val_samples = len(X_train) // k\n",
    "\n",
    "epochs = 100\n",
    "\n",
    "scores = []\n",
    "\n",
    "# prepare validation and training partitions\n",
    "for i in range(k):\n",
    "    print('Cross-validation fold number {0}'.format(i))\n",
    "    val_samples_x = X_train[i * num_val_samples: (i + 1) * num_val_samples]\n",
    "    val_samples_y = y_train[i * num_val_samples: (i + 1) * num_val_samples]\n",
    "    \n",
    "    print(\"X Val: {0}, y Val: {1}\".format(val_samples_x.shape, val_samples_y.shape))\n",
    "    \n",
    "    train_samples_x = np.concatenate([X_train[:i * num_val_samples],\n",
    "                                      X_train[(i + 1) * num_val_samples:]], axis=0)\n",
    "    \n",
    "    train_samples_y = np.concatenate([y_train[:i * num_val_samples], \n",
    "                                      y_train[(i + 1) * num_val_samples:]], axis=0)\n",
    "    \n",
    "    print(\"X Train: {0}, y Train: {1}\".format(train_samples_x.shape, train_samples_y.shape))\n",
    "    \n",
    "    # instantiate model and fit training samples, then evaluate on val partition\n",
    "    model = nn_model()\n",
    "    model.fit(train_samples_x, train_samples_y, epochs=epochs, batch_size=1, verbose=0)\n",
    "    val_mse, val_mae = model.evaluate(val_samples_x, val_samples_y, verbose=0)\n",
    "    scores.append(val_mae)"
   ]
  },
  {
   "cell_type": "code",
   "execution_count": 13,
   "metadata": {},
   "outputs": [
    {
     "name": "stdout",
     "output_type": "stream",
     "text": [
      "4.8270609974861145\n"
     ]
    }
   ],
   "source": [
    "print(np.mean(scores))"
   ]
  },
  {
   "cell_type": "markdown",
   "metadata": {},
   "source": [
    "Repeat again but obtain a record of our validation performance at each epoch across all folds."
   ]
  },
  {
   "cell_type": "code",
   "execution_count": 14,
   "metadata": {},
   "outputs": [
    {
     "name": "stdout",
     "output_type": "stream",
     "text": [
      "Cross-validation fold number 0\n",
      "X Val: (101, 13), y Val: (101, 1)\n",
      "X Train: (303, 13), y Train: (303, 1)\n",
      "Cross-validation fold number 1\n",
      "X Val: (101, 13), y Val: (101, 1)\n",
      "X Train: (303, 13), y Train: (303, 1)\n",
      "Cross-validation fold number 2\n",
      "X Val: (101, 13), y Val: (101, 1)\n",
      "X Train: (303, 13), y Train: (303, 1)\n",
      "Cross-validation fold number 3\n",
      "X Val: (101, 13), y Val: (101, 1)\n",
      "X Train: (303, 13), y Train: (303, 1)\n"
     ]
    }
   ],
   "source": [
    "k = 4\n",
    "\n",
    "num_val_samples = len(X_train) // k\n",
    "\n",
    "epochs = 100\n",
    "\n",
    "mae_histories = []\n",
    "\n",
    "# prepare validation and training partitions\n",
    "for i in range(k):\n",
    "    print('Cross-validation fold number {0}'.format(i))\n",
    "    val_samples_x = X_train[i * num_val_samples: (i + 1) * num_val_samples]\n",
    "    val_samples_y = y_train[i * num_val_samples: (i + 1) * num_val_samples]\n",
    "    \n",
    "    print(\"X Val: {0}, y Val: {1}\".format(val_samples_x.shape, val_samples_y.shape))\n",
    "    \n",
    "    train_samples_x = np.concatenate([X_train[:i * num_val_samples],\n",
    "                                      X_train[(i + 1) * num_val_samples:]], axis=0)\n",
    "    \n",
    "    train_samples_y = np.concatenate([y_train[:i * num_val_samples], \n",
    "                                      y_train[(i + 1) * num_val_samples:]], axis=0)\n",
    "    \n",
    "    print(\"X Train: {0}, y Train: {1}\".format(train_samples_x.shape, train_samples_y.shape))\n",
    "    \n",
    "    # instantiate model and fit training samples, then evaluate on val partition\n",
    "    model = nn_model()\n",
    "    history = model.fit(train_samples_x, train_samples_y, \n",
    "                        epochs=epochs, batch_size=1, \n",
    "                        verbose=0, validation_data=(val_samples_x, val_samples_y))\n",
    "    \n",
    "    val_mae_hist = history.history['val_mae']\n",
    "    \n",
    "    mae_histories.append(val_mae_hist)"
   ]
  },
  {
   "cell_type": "code",
   "execution_count": 15,
   "metadata": {},
   "outputs": [],
   "source": [
    "average_mae_hist = [np.mean([x[i] for x in mae_histories]) for i in range(epochs)]"
   ]
  },
  {
   "cell_type": "code",
   "execution_count": 16,
   "metadata": {},
   "outputs": [
    {
     "data": {
      "image/png": "[encoded data removed]",
      "text/plain": [
       "<Figure size 720x432 with 1 Axes>"
      ]
     },
     "metadata": {
      "needs_background": "light"
     },
     "output_type": "display_data"
    }
   ],
   "source": [
    "plt.figure(figsize=(10,6))\n",
    "plt.plot(range(1, len(average_mae_hist) + 1), average_mae_hist)\n",
    "plt.xlabel(\"Epochs\")\n",
    "plt.ylabel(\"Validation MAE\")\n",
    "plt.show()"
   ]
  },
  {
   "cell_type": "code",
   "execution_count": 17,
   "metadata": {},
   "outputs": [
    {
     "data": {
      "image/png": "[encoded data removed]",
      "text/plain": [
       "<Figure size 720x432 with 1 Axes>"
      ]
     },
     "metadata": {
      "needs_background": "light"
     },
     "output_type": "display_data"
    }
   ],
   "source": [
    "plt.figure(figsize=(10,6))\n",
    "plt.plot(range(1, len(average_mae_hist) + 1), average_mae_hist)\n",
    "plt.xlabel(\"Epochs\")\n",
    "plt.ylabel(\"Validation MAE\")\n",
    "plt.xlim(0.0, 100.0)\n",
    "plt.show()"
   ]
  },
  {
   "cell_type": "markdown",
   "metadata": {},
   "source": [
    "As we can see, even after a very low number of iterations we begin to over-fit on our data. This is expected with such a small dataset of only 500 samples. To counteract this, we have made use of cross-folds validation. Something that we can apply further to this is regularisation.\n",
    "\n",
    "Below we'll apply dropout regularisation in an effort to reduce overfitting."
   ]
  },
  {
   "cell_type": "code",
   "execution_count": 18,
   "metadata": {},
   "outputs": [
    {
     "name": "stdout",
     "output_type": "stream",
     "text": [
      "Cross-validation fold number 0\n",
      "X Val: (101, 13), y Val: (101, 1)\n",
      "X Train: (303, 13), y Train: (303, 1)\n",
      "Cross-validation fold number 1\n",
      "X Val: (101, 13), y Val: (101, 1)\n",
      "X Train: (303, 13), y Train: (303, 1)\n",
      "Cross-validation fold number 2\n",
      "X Val: (101, 13), y Val: (101, 1)\n",
      "X Train: (303, 13), y Train: (303, 1)\n",
      "Cross-validation fold number 3\n",
      "X Val: (101, 13), y Val: (101, 1)\n",
      "X Train: (303, 13), y Train: (303, 1)\n"
     ]
    }
   ],
   "source": [
    "k = 4\n",
    "\n",
    "num_val_samples = len(X_train) // k\n",
    "\n",
    "epochs = 100\n",
    "\n",
    "reg_mae_histories = []\n",
    "\n",
    "# prepare validation and training partitions\n",
    "for i in range(k):\n",
    "    print('Cross-validation fold number {0}'.format(i))\n",
    "    val_samples_x = X_train[i * num_val_samples: (i + 1) * num_val_samples]\n",
    "    val_samples_y = y_train[i * num_val_samples: (i + 1) * num_val_samples]\n",
    "    \n",
    "    print(\"X Val: {0}, y Val: {1}\".format(val_samples_x.shape, val_samples_y.shape))\n",
    "    \n",
    "    train_samples_x = np.concatenate([X_train[:i * num_val_samples],\n",
    "                                      X_train[(i + 1) * num_val_samples:]], axis=0)\n",
    "    \n",
    "    train_samples_y = np.concatenate([y_train[:i * num_val_samples], \n",
    "                                      y_train[(i + 1) * num_val_samples:]], axis=0)\n",
    "    \n",
    "    print(\"X Train: {0}, y Train: {1}\".format(train_samples_x.shape, train_samples_y.shape))\n",
    "    \n",
    "    # instantiate dropout regularised model and fit training samples with val data for eval\n",
    "    model = nn_model(dropout=True)\n",
    "    history = model.fit(train_samples_x, train_samples_y, \n",
    "                        epochs=epochs, batch_size=1, \n",
    "                        verbose=0, validation_data=(val_samples_x, val_samples_y))\n",
    "    \n",
    "    val_mae_hist = history.history['val_mae']\n",
    "    \n",
    "    reg_mae_histories.append(val_mae_hist)\n",
    "\n",
    "average_reg_mae_hist = [np.mean([x[i] for x in reg_mae_histories]) for i in range(epochs)]"
   ]
  },
  {
   "cell_type": "code",
   "execution_count": 19,
   "metadata": {},
   "outputs": [
    {
     "data": {
      "image/png": "[encoded data removed]",
      "text/plain": [
       "<Figure size 720x432 with 1 Axes>"
      ]
     },
     "metadata": {
      "needs_background": "light"
     },
     "output_type": "display_data"
    }
   ],
   "source": [
    "plt.figure(figsize=(10,6))\n",
    "plt.plot(range(1, len(average_mae_hist) + 1), average_mae_hist, label='Original Model')\n",
    "plt.plot(range(1, len(average_reg_mae_hist) + 1), average_reg_mae_hist, label='Regularised Model')\n",
    "plt.xlabel(\"Epochs\")\n",
    "plt.ylabel(\"Validation MAE\")\n",
    "plt.xlim(1.0, 100.0)\n",
    "plt.legend(loc='best')\n",
    "plt.show()"
   ]
  },
  {
   "cell_type": "markdown",
   "metadata": {},
   "source": [
    "Our dropout regularised model is much better in terms of reducing overfitting."
   ]
  },
  {
   "cell_type": "markdown",
   "metadata": {},
   "source": [
    "---\n",
    "## 5. Formation of our evaluated model into a final model\n",
    "\n",
    "#### Finally, lets make a final model with the entire training set, followed by predictions for our test set using the trained model."
   ]
  },
  {
   "cell_type": "code",
   "execution_count": 20,
   "metadata": {},
   "outputs": [],
   "source": [
    "# produce our deep NN model using dropout regularisation, trained on all training data\n",
    "final_model = nn_model(dropout=True)\n",
    "history = final_model.fit(X_train, y_train, epochs=200, batch_size=1, verbose=0)"
   ]
  },
  {
   "cell_type": "code",
   "execution_count": 21,
   "metadata": {},
   "outputs": [
    {
     "data": {
      "image/png": "[encoded data removed]",
      "text/plain": [
       "<Figure size 864x288 with 2 Axes>"
      ]
     },
     "metadata": {
      "needs_background": "light"
     },
     "output_type": "display_data"
    }
   ],
   "source": [
    "hist_dict = history.history\n",
    "\n",
    "trg_loss = history.history['loss']\n",
    "trg_acc = history.history['mae']\n",
    "\n",
    "epochs = range(1, len(trg_acc) + 1)\n",
    "\n",
    "fig, ax = plt.subplots(1, 2, figsize=(12, 4))\n",
    "ax[0].plot(epochs, trg_loss, label='Training Loss')\n",
    "ax[1].plot(epochs, trg_acc, label='Training MAE')\n",
    "ax[0].set_ylabel('Training Loss')\n",
    "ax[1].set_ylabel('Training MAE')\n",
    "\n",
    "plt.show()"
   ]
  },
  {
   "cell_type": "code",
   "execution_count": 22,
   "metadata": {},
   "outputs": [],
   "source": [
    "test_preds = final_model.predict(X_test)"
   ]
  },
  {
   "cell_type": "code",
   "execution_count": 23,
   "metadata": {},
   "outputs": [],
   "source": [
    "test_mse, test_mae = final_model.evaluate(X_test, y_test, verbose=0)"
   ]
  },
  {
   "cell_type": "code",
   "execution_count": 24,
   "metadata": {},
   "outputs": [
    {
     "name": "stdout",
     "output_type": "stream",
     "text": [
      "Test set performance: \n",
      "- Test MSE: 19.653522902844 \n",
      "- Test MAE: 3.5048654079437256\n"
     ]
    }
   ],
   "source": [
    "print(\"Test set performance: \\n- Test MSE: {0} \\n- Test MAE: {1}\".format(test_mse, test_mae))"
   ]
  },
  {
   "cell_type": "markdown",
   "metadata": {},
   "source": [
    "Our final test set performance is not bad - only 3.21 Mean Absolute Error (MAE)! Basically the average amount that our predictions of house prices deviated from the actual values was $3210. When we consider how varying houses can be, coupled with their relatively high prices, this is not a bad average error to have in our set of predictions, especially with the extremely low amount of data-preprocessing and feature engineering conducted in this notebook to obtain this model."
   ]
  }
 ],
 "metadata": {
  "kernelspec": {
   "display_name": "Python 3",
   "language": "python",
   "name": "python3"
  },
  "language_info": {
   "codemirror_mode": {
    "name": "ipython",
    "version": 3
   },
   "file_extension": ".py",
   "mimetype": "text/x-python",
   "name": "python",
   "nbconvert_exporter": "python",
   "pygments_lexer": "ipython3",
   "version": "3.6.6"
  }
 },
 "nbformat": 4,
 "nbformat_minor": 4
}
